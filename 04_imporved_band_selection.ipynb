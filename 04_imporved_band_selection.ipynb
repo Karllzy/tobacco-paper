{
 "cells": [
  {
   "cell_type": "markdown",
   "metadata": {},
   "source": [
    "# Improved Band Selection\n",
    "Based on the moidified spirit grey wolf algorithm, the band selection progress is also changed."
   ]
  }
 ],
 "metadata": {
  "language_info": {
   "name": "python"
  },
  "orig_nbformat": 4
 },
 "nbformat": 4,
 "nbformat_minor": 2
}
