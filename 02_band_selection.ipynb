{
 "cells": [
  {
   "cell_type": "markdown",
   "metadata": {
    "collapsed": true,
    "pycharm": {
     "name": "#%% md\n"
    }
   },
   "source": [
    "# Band Selection For Online Sorting"
   ]
  },
  {
   "cell_type": "code",
   "execution_count": 40,
   "metadata": {
    "pycharm": {
     "name": "#%%\n"
    }
   },
   "outputs": [],
   "source": [
    "import os\n",
    "import time\n",
    "\n",
    "import numpy as np\n",
    "from scipy.io import loadmat\n",
    "from sklearn.metrics import accuracy_score\n",
    "from sklearn.model_selection import train_test_split\n",
    "from sklearn.tree import DecisionTreeClassifier\n",
    "\n",
    "from models.elm import ELM"
   ]
  },
  {
   "cell_type": "markdown",
   "metadata": {
    "pycharm": {
     "name": "#%% md\n"
    }
   },
   "source": [
    "## Background\n",
    "In practical industry environment, the data transferring speed cannot maintain an extremely high standard for long time when it comes to the hyperspectral domain. Unlike the commonly used line scanned RGB camera whose image frame is a line contain 3 line of value corresponding to the red, blue and green reflection of object, the line scanned hyperspectral camera generate is able to generate hundreds lines of value in each image frame which reval the chemical characteristic of the object, however, bring burden to not only the Ether Net but also the complaint devices to cope with. In order to avoid this situation, the band selection based on the requirement of the hyperspectral camera is essential. The majority of the current band selection focus only on the accuracy acquired with the selected bands, which is far away from satisfying the demand of our sponsor.\n",
    "\n",
    "In this part, we mainly focus on three factors of the proposed band selection.\n",
    "1. The influence caused by different kinds of population are of a world different, some papers in tobacco may not affect the final product, while some plastic in tobacco is surely going to make the final product inedible, so the objective function is redesigned to pay different attention to the mistakes made by our model.\n",
    "2. When it comes to actually use the selected band with the camera, the MROIs (Multiple Regions of Interest) are needed to be set. However, each single ROI (Region of Interest) will cause some band before and after the region to be invalid, the more ROIs are set the more waste will be. So the encoding method is changed to handle this problem to restrict the total number of ROI.\n",
    "3. Some prior knowledge may already be observed by human, such as the 吸收峰 on some wavelengths of the material, so the optimization algorithm is modified in order to go beyond the normal version of it."
   ]
  },
  {
   "cell_type": "markdown",
   "metadata": {
    "pycharm": {
     "name": "#%% md\n"
    }
   },
   "source": [
    "## Encoding\n",
    "Traditional method often use binary encoding to represent for each band combination, however, this kind of encoding method is not suitable when\n",
    "$$[[0, n_{b}], [0, M]] \\times n$$\n",
    "where, the $n_{b}$ represents the band number, $M$ means the maximum of the selected bands number for each window, $n$ is the maximum of the selected window."
   ]
  },
  {
   "cell_type": "markdown",
   "metadata": {},
   "source": [
    "## Objective Function\n",
    "In the objective function of our method, we design it based on 3 rules:\n",
    "- The smaller the number of the bands the better it will be.(less transmission, less computational cost)\n",
    "- The total number of the window used is the smaller, the better.(higher frame rate)\n",
    "- The accuracy of the classification is surely important while the different material should be treated with different attitudes according to the harm they caused.\n",
    "- ！TODO: Class separability criterion\n",
    "    - 类间距离\n",
    "    - 类内聚合度"
   ]
  },
  {
   "cell_type": "markdown",
   "metadata": {
    "pycharm": {
     "name": "#%% md\n"
    }
   },
   "source": [
    "### load dataset for further operations"
   ]
  },
  {
   "cell_type": "code",
   "execution_count": 41,
   "metadata": {
    "pycharm": {
     "name": "#%%\n"
    }
   },
   "outputs": [
    {
     "name": "stdout",
     "output_type": "stream",
     "text": [
      "train_x : (1424, 293), train_y: (1424,)test_x: (12817, 293), test_y: (12817,)\n"
     ]
    }
   ],
   "source": [
    "data_set_dir = \"dataset\"\n",
    "\n",
    "class_names_dic = {'white_foma': 3, 'blue_plastic':  2, 'tobacco':  1,\n",
    "'transparent_plastic': 4, 'background':  0, 'blue_cigarate':  5, 'red_foma':  6,\n",
    "'yellow_paper':  7, 'cloth':  8, 'white_paper':  9, 'green_plastic':  10, 'yellow_cigarate':  11,\n",
    "'feather':  12}\n",
    "\n",
    "preprocessed_data = loadmat(os.path.join(data_set_dir, 'preprocessed.mat'))\n",
    "bands = preprocessed_data['bands'].copy()\n",
    "del preprocessed_data['bands']\n",
    "preprocessed_data = {k: v for k, v in preprocessed_data.items() if not k.startswith(\"__\")}\n",
    "data = [(value, class_names_dic[class_name]*np.ones((value.shape[0], ))) for class_name, value in preprocessed_data.items() if (not class_name.startswith(\"__\")) or (class_name == 'bands')]\n",
    "x = np.concatenate([d[0] for d in data], axis=0)\n",
    "y = np.concatenate([d[1] for d in data], axis=0)\n",
    "y = np.asarray(y, dtype=int)\n",
    "train_x, test_x, train_y, test_y = train_test_split(x, y, train_size=0.1, random_state=12, shuffle=True)\n",
    "print(f\"train_x : {train_x.shape}, train_y: {train_y.shape}\"\n",
    "      f\"test_x: {test_x.shape}, test_y: {test_y.shape}\")"
   ]
  },
  {
   "cell_type": "markdown",
   "metadata": {
    "pycharm": {
     "name": "#%% md\n"
    }
   },
   "source": [
    "### Objective function design\n",
    "Based on the rule we proposed above, we designed three objective function and we use the sum of them as the final objective function for the optimizer to optimize.\n",
    "1. Objective function 1 reflect the total bans number\n",
    "2. Objective function 2 reflect the total window number\n",
    "3. Objective function 3 reflect the weighted accuracy based on the selected bands.\n",
    "4. ==========>！TODO: Class separability criterion!<===========================\n",
    "    - 类间距离\n",
    "    - 类内聚合度"
   ]
  },
  {
   "cell_type": "code",
   "execution_count": 42,
   "metadata": {
    "pycharm": {
     "name": "#%%\n"
    }
   },
   "outputs": [],
   "source": [
    "from sklearn.metrics import precision_score\n",
    "\n",
    "\n",
    "class ObjFunc(object):\n",
    "    def __init__(self, train_x, test_x, train_y, test_y, material_weight=None):\n",
    "        self.train_x, self.test_x, self.train_y, self.test_y = train_x, test_x, train_y, test_y\n",
    "        self.cache_space = {}\n",
    "        self.material_weight = material_weight\n",
    "\n",
    "    @staticmethod\n",
    "    def obj_func1(agent):\n",
    "        \"\"\"\n",
    "        Calculate the total number of the bands selected.\n",
    "        :param agent: search agent\n",
    "        :return: band number\n",
    "        \"\"\"\n",
    "        agent = agent.ravel()\n",
    "        res = np.sum(np.round(agent[1::2]))\n",
    "        return res\n",
    "\n",
    "    @staticmethod\n",
    "    def obj_func2(agent):\n",
    "        \"\"\"\n",
    "        Calculate the total number of band windows.\n",
    "\n",
    "        :param agent: search agent\n",
    "        :return: window number\n",
    "        \"\"\"\n",
    "        agent = agent.ravel()\n",
    "        return sum(agent[1::2]>0.5)\n",
    "\n",
    "    def obj_func3(self, agent):\n",
    "        \"\"\"\n",
    "        Calculate the accuracy based on the selected bands\n",
    "        :param agent:\n",
    "        :return:\n",
    "        \"\"\"\n",
    "        index, node_num, hash_value = self.decoder(agent)\n",
    "        if len(index) == 0:\n",
    "            return 0.0\n",
    "        if hash_value in self.cache_space:\n",
    "            return self.cache_space[hash_value]\n",
    "        # clf = ELM(input_size=len(index), node_num=node_num, output_num=13)\n",
    "        clf = DecisionTreeClassifier(max_depth=40, class_weight={0: 100, 1:100})\n",
    "        train_data, test_data = self.train_x[:, index], self.test_x[:, index]\n",
    "        clf = clf.fit(train_data, self.train_y)\n",
    "        pred_y = clf.predict(test_data)\n",
    "        if self.material_weight is not None:\n",
    "            precision = precision_score(pred_y, self.test_y, average=None)\n",
    "            return precision.dot(weighted_array)\n",
    "        acc = accuracy_score(pred_y, test_y)\n",
    "        self.cache_space[hash_value] = acc\n",
    "        return acc\n",
    "\n",
    "    def obj_func(self, agent):\n",
    "        band_num = self.obj_func1(agent)\n",
    "        win_num = self.obj_func2(agent)\n",
    "        acc = self.obj_func3(agent)\n",
    "        return band_num/36.0 + win_num/6 + (1 - acc)*10\n",
    "\n",
    "    @staticmethod\n",
    "    def decoder(agent):\n",
    "        agent = agent.ravel()\n",
    "        node_num = round(agent[-1])\n",
    "        wavelength_selected = []\n",
    "        for i in range(0, len(agent)-1, 2):\n",
    "            if round(agent[i + 1]) == 0:\n",
    "                continue\n",
    "            for j in range(round(agent[i + 1])):\n",
    "                wavelength_selected.append(j + agent[i])\n",
    "        wavelength_selected.sort()\n",
    "        wavelength_selected = np.array(wavelength_selected, dtype=int)\n",
    "        hash_value = wavelength_selected.tobytes()\n",
    "        return wavelength_selected, node_num, hash_value\n"
   ]
  },
  {
   "cell_type": "code",
   "execution_count": 43,
   "metadata": {
    "pycharm": {
     "name": "#%%\n"
    }
   },
   "outputs": [],
   "source": [
    "test_wolf = np.array([40, 2, 20, 2, 30, 2, 128, 0, 20, 0], dtype=float).reshape((1, -1))"
   ]
  },
  {
   "cell_type": "code",
   "execution_count": 44,
   "metadata": {
    "pycharm": {
     "name": "#%%\n"
    }
   },
   "outputs": [
    {
     "data": {
      "text/plain": [
       "4.300369391031852"
      ]
     },
     "execution_count": 44,
     "metadata": {},
     "output_type": "execute_result"
    }
   ],
   "source": [
    "material_weight = {'white_foma': 10, 'blue_plastic':  10, 'tobacco':  50,\n",
    "'transparent_plastic': 10, 'background':  50, 'blue_cigarate':  10, 'red_foma':  10,\n",
    "'yellow_paper':  10, 'cloth':  10, 'white_paper':  10, 'green_plastic':  10, 'yellow_cigarate':  10,\n",
    "'feather':  10}\n",
    "weighted_array = [(class_names_dic[key], material_weight[key]) for key in class_names_dic.keys()]\n",
    "weighted_array.sort(key=lambda x_in: x_in[0])\n",
    "weighted_array = np.array([a[1] for a in weighted_array])\n",
    "weighted_array = weighted_array / weighted_array.sum()\n",
    "obj = ObjFunc(train_x, test_x, train_y, test_y, weighted_array)\n",
    "obj.obj_func3(test_wolf)\n",
    "obj.obj_func(test_wolf)"
   ]
  },
  {
   "cell_type": "markdown",
   "metadata": {
    "pycharm": {
     "name": "#%% md\n"
    }
   },
   "source": [
    "## Grey Wolf Optimization"
   ]
  },
  {
   "cell_type": "code",
   "execution_count": 45,
   "metadata": {
    "pycharm": {
     "name": "#%%\n"
    }
   },
   "outputs": [],
   "source": [
    "from optimizer.grey_wolf import GWO"
   ]
  },
  {
   "cell_type": "markdown",
   "metadata": {
    "pycharm": {
     "name": "#%% md\n"
    }
   },
   "source": [
    "### Conventional Grey wolf Optimization\n",
    "\n",
    "Here, we build the conventional Grey Wolf Optimization based on this paper. [ref](https://www.sciencedirect.com/science/article/pii/S0965997813001853)\n",
    "\n",
    "We add a hash block to the objective function before it start to train the model to get the accuracy. It saves the objective function value and the corresponding hash value of the decoded gene to accelerate the judge progress."
   ]
  },
  {
   "cell_type": "code",
   "execution_count": 46,
   "metadata": {
    "pycharm": {
     "name": "#%%\n"
    }
   },
   "outputs": [],
   "source": [
    "# Fix the random seed\n",
    "np.random.seed(0)\n",
    "import random\n",
    "random.seed(0)\n",
    "# Create the upper boundary and lower boundary.\n",
    "max_window_size = 6\n",
    "bands_num = train_x.shape[1]\n",
    "upper, lower = [], []\n",
    "for i in range(max_window_size):\n",
    "    upper.append(bands_num-36)\n",
    "    upper.append(36)\n",
    "    lower.append(0)\n",
    "    lower.append(0)\n",
    "upper, lower = np.array([upper]), np.array([lower])"
   ]
  },
  {
   "cell_type": "code",
   "execution_count": 47,
   "metadata": {
    "pycharm": {
     "name": "#%%\n"
    }
   },
   "outputs": [
    {
     "name": "stdout",
     "output_type": "stream",
     "text": [
      "Generation  1 finish! Best value =  5.072439422269916\n",
      "Generation  2 finish! Best value =  4.3111941345168425\n",
      "Generation  3 finish! Best value =  4.1659612452412516\n",
      "Generation  4 finish! Best value =  3.888999461511884\n",
      "Generation  5 finish! Best value =  3.666209938624938\n",
      "Generation  6 finish! Best value =  3.666209938624938\n",
      "Generation  7 finish! Best value =  3.666209938624938\n",
      "Generation  8 finish! Best value =  3.589579746413535\n",
      "Generation  9 finish! Best value =  3.5522186542990237\n",
      "Generation  10 finish! Best value =  3.535417275828273\n",
      "Generation  11 finish! Best value =  3.535417275828273\n",
      "Generation  12 finish! Best value =  3.535417275828273\n",
      "Generation  13 finish! Best value =  3.505087433786407\n",
      "Generation  14 finish! Best value =  3.505087433786407\n",
      "Generation  15 finish! Best value =  3.505087433786407\n",
      "Generation  16 finish! Best value =  3.4705816919600285\n",
      "Generation  17 finish! Best value =  3.4705816919600285\n",
      "Generation  18 finish! Best value =  3.4705816919600285\n",
      "Generation  19 finish! Best value =  3.4705816919600285\n",
      "Generation  20 finish! Best value =  3.4705816919600285\n",
      "Generation  21 finish! Best value =  3.469688265428687\n",
      "Generation  22 finish! Best value =  3.469688265428687\n",
      "Generation  23 finish! Best value =  3.469688265428687\n",
      "Generation  24 finish! Best value =  3.469688265428687\n",
      "Generation  25 finish! Best value =  3.469688265428687\n",
      "Generation  26 finish! Best value =  3.469688265428687\n",
      "Generation  27 finish! Best value =  3.469688265428687\n",
      "Generation  28 finish! Best value =  3.438644318738474\n",
      "Generation  29 finish! Best value =  3.3488245844754303\n",
      "Generation  30 finish! Best value =  3.3488245844754303\n",
      "Generation  31 finish! Best value =  3.3488245844754303\n",
      "Generation  32 finish! Best value =  3.3488245844754303\n",
      "Generation  33 finish! Best value =  3.3488245844754303\n",
      "Generation  34 finish! Best value =  3.3488245844754303\n",
      "Generation  35 finish! Best value =  3.3488245844754303\n",
      "Generation  36 finish! Best value =  3.3488245844754303\n",
      "Generation  37 finish! Best value =  3.3488245844754303\n",
      "Generation  38 finish! Best value =  3.3488245844754303\n",
      "Generation  39 finish! Best value =  3.3488245844754303\n",
      "Generation  40 finish! Best value =  3.3488245844754303\n",
      "Generation  41 finish! Best value =  3.3488245844754303\n",
      "Generation  42 finish! Best value =  3.3488245844754303\n",
      "Generation  43 finish! Best value =  3.3488245844754303\n",
      "Generation  44 finish! Best value =  3.3488245844754303\n",
      "Generation  45 finish! Best value =  3.3488245844754303\n",
      "Generation  46 finish! Best value =  3.3488245844754303\n",
      "Generation  47 finish! Best value =  3.3488245844754303\n",
      "Generation  48 finish! Best value =  3.3488245844754303\n",
      "Generation  49 finish! Best value =  3.3488245844754303\n",
      "Generation  50 finish! Best value =  3.3488245844754303\n",
      "Generation  51 finish! Best value =  3.3488245844754303\n",
      "Generation  52 finish! Best value =  3.3488245844754303\n",
      "Generation  53 finish! Best value =  3.3488245844754303\n",
      "Generation  54 finish! Best value =  3.3488245844754303\n",
      "Generation  55 finish! Best value =  3.3488245844754303\n",
      "Generation  56 finish! Best value =  3.3488245844754303\n",
      "Generation  57 finish! Best value =  3.3488245844754303\n",
      "Generation  58 finish! Best value =  3.3488245844754303\n",
      "Generation  59 finish! Best value =  3.3488245844754303\n",
      "Generation  60 finish! Best value =  3.3488245844754303\n",
      "Generation  61 finish! Best value =  3.3488245844754303\n",
      "Generation  62 finish! Best value =  3.3488245844754303\n",
      "Generation  63 finish! Best value =  3.3488245844754303\n",
      "Generation  64 finish! Best value =  3.3488245844754303\n",
      "Generation  65 finish! Best value =  3.3488245844754303\n",
      "Generation  66 finish! Best value =  3.3488245844754303\n",
      "Generation  67 finish! Best value =  3.3488245844754303\n",
      "Generation  68 finish! Best value =  3.3488245844754303\n",
      "Generation  69 finish! Best value =  3.3251161230356194\n",
      "Generation  70 finish! Best value =  3.3251161230356194\n",
      "Generation  71 finish! Best value =  3.3251161230356194\n",
      "Generation  72 finish! Best value =  3.3251161230356194\n",
      "Generation  73 finish! Best value =  3.308400130393099\n",
      "Generation  74 finish! Best value =  3.308400130393099\n",
      "Generation  75 finish! Best value =  3.308400130393099\n",
      "Generation  76 finish! Best value =  3.308400130393099\n",
      "Generation  77 finish! Best value =  3.308400130393099\n",
      "Generation  78 finish! Best value =  3.308400130393099\n",
      "Generation  79 finish! Best value =  3.308400130393099\n",
      "Generation  80 finish! Best value =  3.308400130393099\n",
      "Generation  81 finish! Best value =  3.308400130393099\n",
      "Generation  82 finish! Best value =  3.308400130393099\n",
      "Generation  83 finish! Best value =  3.308400130393099\n",
      "Generation  84 finish! Best value =  3.308400130393099\n",
      "Generation  85 finish! Best value =  3.308400130393099\n",
      "Generation  86 finish! Best value =  3.308400130393099\n",
      "Generation  87 finish! Best value =  3.308400130393099\n",
      "Generation  88 finish! Best value =  3.308400130393099\n",
      "Generation  89 finish! Best value =  3.308400130393099\n",
      "Generation  90 finish! Best value =  3.308400130393099\n",
      "Generation  91 finish! Best value =  3.308400130393099\n",
      "Generation  92 finish! Best value =  3.308400130393099\n",
      "Generation  93 finish! Best value =  3.289232057825245\n",
      "Generation  94 finish! Best value =  3.289232057825245\n",
      "Generation  95 finish! Best value =  3.289232057825245\n",
      "Generation  96 finish! Best value =  3.289232057825245\n",
      "Generation  97 finish! Best value =  3.289232057825245\n",
      "Generation  98 finish! Best value =  3.289232057825245\n",
      "Generation  99 finish! Best value =  3.289232057825245\n",
      "Generation  100 finish! Best value =  3.289232057825245\n",
      "Generation  101 finish! Best value =  3.289232057825245\n",
      "Generation  102 finish! Best value =  3.289232057825245\n",
      "Generation  103 finish! Best value =  3.289232057825245\n",
      "Generation  104 finish! Best value =  3.289232057825245\n",
      "Generation  105 finish! Best value =  3.289232057825245\n",
      "Generation  106 finish! Best value =  3.289232057825245\n",
      "Generation  107 finish! Best value =  3.289232057825245\n",
      "Generation  108 finish! Best value =  3.289232057825245\n",
      "Generation  109 finish! Best value =  3.289232057825245\n",
      "Generation  110 finish! Best value =  3.289232057825245\n",
      "Generation  111 finish! Best value =  3.289232057825245\n",
      "Generation  112 finish! Best value =  3.289232057825245\n",
      "Generation  113 finish! Best value =  3.289232057825245\n",
      "Generation  114 finish! Best value =  3.289232057825245\n",
      "Generation  115 finish! Best value =  3.289232057825245\n",
      "Generation  116 finish! Best value =  3.289232057825245\n",
      "Generation  117 finish! Best value =  3.281435947662967\n",
      "Generation  118 finish! Best value =  3.2744916431228512\n",
      "Generation  119 finish! Best value =  3.2744916431228512\n",
      "Generation  120 finish! Best value =  3.2744916431228512\n",
      "Generation  121 finish! Best value =  3.2744916431228512\n",
      "Generation  122 finish! Best value =  3.2744916431228512\n",
      "Generation  123 finish! Best value =  3.2744916431228512\n",
      "Generation  124 finish! Best value =  3.2744916431228512\n",
      "Generation  125 finish! Best value =  3.2744916431228512\n",
      "Generation  126 finish! Best value =  3.2744916431228512\n",
      "Generation  127 finish! Best value =  3.2744916431228512\n",
      "Generation  128 finish! Best value =  3.2744916431228512\n",
      "Generation  129 finish! Best value =  3.2744916431228512\n",
      "Generation  130 finish! Best value =  3.2744916431228512\n",
      "Generation  131 finish! Best value =  3.2744916431228512\n",
      "Generation  132 finish! Best value =  3.2744916431228512\n",
      "Generation  133 finish! Best value =  3.2744916431228512\n",
      "Generation  134 finish! Best value =  3.2744916431228512\n",
      "Generation  135 finish! Best value =  3.2744916431228512\n",
      "Generation  136 finish! Best value =  3.2744916431228512\n",
      "Generation  137 finish! Best value =  3.2744916431228512\n",
      "Generation  138 finish! Best value =  3.2744916431228512\n",
      "Generation  139 finish! Best value =  3.2459651839787345\n",
      "Generation  140 finish! Best value =  3.2459651839787345\n",
      "Generation  141 finish! Best value =  3.2459651839787345\n",
      "Generation  142 finish! Best value =  3.2459651839787345\n",
      "Generation  143 finish! Best value =  3.2094575369975047\n",
      "Generation  144 finish! Best value =  3.1892582665331415\n",
      "Generation  145 finish! Best value =  3.1892582665331415\n",
      "Generation  146 finish! Best value =  3.1892582665331415\n",
      "Generation  147 finish! Best value =  3.1892582665331415\n",
      "Generation  148 finish! Best value =  3.1892582665331415\n",
      "Generation  149 finish! Best value =  3.1892582665331415\n",
      "Generation  150 finish! Best value =  3.1892582665331415\n",
      "Generation  151 finish! Best value =  3.1892582665331415\n",
      "Generation  152 finish! Best value =  3.1892582665331415\n",
      "Generation  153 finish! Best value =  3.1892582665331415\n",
      "Generation  154 finish! Best value =  3.1892582665331415\n",
      "Generation  155 finish! Best value =  3.1892582665331415\n",
      "Generation  156 finish! Best value =  3.1892582665331415\n",
      "Generation  157 finish! Best value =  3.1892582665331415\n",
      "Generation  158 finish! Best value =  3.1892582665331415\n",
      "Generation  159 finish! Best value =  3.1892582665331415\n",
      "Generation  160 finish! Best value =  3.1892582665331415\n",
      "Generation  161 finish! Best value =  3.1892582665331415\n",
      "Generation  162 finish! Best value =  3.1892582665331415\n",
      "Generation  163 finish! Best value =  3.1892582665331415\n",
      "Generation  164 finish! Best value =  3.1892582665331415\n",
      "Generation  165 finish! Best value =  3.1892582665331415\n",
      "Generation  166 finish! Best value =  3.1892582665331415\n",
      "Generation  167 finish! Best value =  3.1892582665331415\n",
      "Generation  168 finish! Best value =  3.1892582665331415\n",
      "Generation  169 finish! Best value =  3.1892582665331415\n",
      "Generation  170 finish! Best value =  3.1892582665331415\n",
      "Generation  171 finish! Best value =  3.1892582665331415\n",
      "Generation  172 finish! Best value =  3.1892582665331415\n",
      "Generation  173 finish! Best value =  3.1892582665331415\n",
      "Generation  174 finish! Best value =  3.1892582665331415\n",
      "Generation  175 finish! Best value =  3.1892582665331415\n",
      "Generation  176 finish! Best value =  3.1892582665331415\n",
      "Generation  177 finish! Best value =  3.1892582665331415\n",
      "Generation  178 finish! Best value =  3.1892582665331415\n",
      "Generation  179 finish! Best value =  3.1892582665331415\n",
      "Generation  180 finish! Best value =  3.1892582665331415\n",
      "Generation  181 finish! Best value =  3.1892582665331415\n",
      "Generation  182 finish! Best value =  3.1892582665331415\n",
      "Generation  183 finish! Best value =  3.1892582665331415\n",
      "Generation  184 finish! Best value =  3.1892582665331415\n",
      "Generation  185 finish! Best value =  3.1892582665331415\n",
      "Generation  186 finish! Best value =  3.1892582665331415\n",
      "Generation  187 finish! Best value =  3.1892582665331415\n",
      "Generation  188 finish! Best value =  3.1892582665331415\n",
      "Generation  189 finish! Best value =  3.1892582665331415\n",
      "Generation  190 finish! Best value =  3.1892582665331415\n",
      "Generation  191 finish! Best value =  3.1892582665331415\n",
      "Generation  192 finish! Best value =  3.1892582665331415\n",
      "Generation  193 finish! Best value =  3.1892582665331415\n",
      "Generation  194 finish! Best value =  3.1892582665331415\n",
      "Generation  195 finish! Best value =  3.1892582665331415\n",
      "Generation  196 finish! Best value =  3.1892582665331415\n",
      "Generation  197 finish! Best value =  3.1892582665331415\n",
      "Generation  198 finish! Best value =  3.1892582665331415\n",
      "Generation  199 finish! Best value =  3.1892582665331415\n",
      "Generation  200 finish! Best value =  3.1892582665331415\n",
      "Optimization Finish !\n"
     ]
    }
   ],
   "source": [
    "# Run the GWO\n",
    "gwo = GWO(upper_border=upper, lower_border=lower, judge_func=obj.obj_func, goal=0, num_wolf=50, epochs=200, minimize=True)\n",
    "gwo.run()"
   ]
  },
  {
   "cell_type": "code",
   "execution_count": 48,
   "metadata": {
    "pycharm": {
     "name": "#%%\n"
    }
   },
   "outputs": [
    {
     "name": "stdout",
     "output_type": "stream",
     "text": [
      "selected bands idx:  [ 19  93  94 186]\n",
      "selected wavelength (nm):  [570.089 669.196 670.536 793.75 ]\n",
      "selected band number 4\n",
      "selected window number 3\n"
     ]
    }
   ],
   "source": [
    "wolf, fitness = gwo.alpha_wolf()\n",
    "\n",
    "idx, _, _ = obj.decoder(wolf)\n",
    "bands = bands.ravel()\n",
    "print(\"selected bands idx: \", idx)\n",
    "print(\"selected wavelength (nm): \", bands[idx])\n",
    "print(\"selected band number\", int(obj.obj_func1(wolf)))\n",
    "print(\"selected window number\", int(obj.obj_func2(wolf)))"
   ]
  },
  {
   "cell_type": "markdown",
   "metadata": {
    "pycharm": {
     "name": "#%% md\n"
    }
   },
   "source": [
    "### Spirit Grey Wolf Optimization\n",
    "In most cases of our optimization tasks, we can get some prior knowledge about the optimum result. However, these prior knowledge maybe vague and not sure to be the best optimum result. Conventional optimizer can hardly take advantages of these prior knowledge. So we modified the grey wolf optimizer to handle this problem.\n",
    "The detailed information about the spirit grey wolf optimization can be found in this [file](./03_spirit_grey_wolf.ipynb)."
   ]
  },
  {
   "cell_type": "code",
   "execution_count": 48,
   "metadata": {
    "pycharm": {
     "name": "#%%\n"
    }
   },
   "outputs": [],
   "source": []
  }
 ],
 "metadata": {
  "kernelspec": {
   "display_name": "Python 3 (ipykernel)",
   "language": "python",
   "name": "python3"
  },
  "language_info": {
   "codemirror_mode": {
    "name": "ipython",
    "version": 3
   },
   "file_extension": ".py",
   "mimetype": "text/x-python",
   "name": "python",
   "nbconvert_exporter": "python",
   "pygments_lexer": "ipython3",
   "version": "3.9.7"
  }
 },
 "nbformat": 4,
 "nbformat_minor": 1
}
