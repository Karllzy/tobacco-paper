{
 "cells": [
  {
   "cell_type": "markdown",
   "metadata": {
    "collapsed": true,
    "pycharm": {
     "name": "#%% md\n"
    }
   },
   "source": [
    "# Band Selection For Online Sorting"
   ]
  },
  {
   "cell_type": "code",
   "execution_count": 2,
   "outputs": [],
   "source": [
    "import numpy as np"
   ],
   "metadata": {
    "collapsed": false,
    "pycharm": {
     "name": "#%%\n"
    }
   }
  },
  {
   "cell_type": "markdown",
   "source": [
    "# Background\n",
    "In practical industry environment, the data transferring speed cannot maintain an extremely high standard for long time when it comes to the hyperspectral domain. Unlike the commonly used line scanned RGB camera whose image frame is a line contain 3 line of value corresponding to the red, blue and green reflection of object, the line scanned hyperspectral camera generate is able to generate hundreds lines of value in each image frame which reval the chemical characteristic of the object, however, bring burden to not only the Ether Net but also the complaint devices to cope with. In order to avoid this situation, the band selection based on the requirement of the hyperspectral camera is essential. The majority of the current band selection focus only on the accuracy acquired with the selected bands, which is far away from satisfying the demand of my tutor?\n",
    "\n",
    "In this part, we mainly focus on three factors of the proposed band selection.\n",
    "1. The influence caused by different kinds of population are of a world different, some papers in tobacco may not affect the final product, while some plastic in tobacco is surely going to make the final product inedible, so the objective function is redesigned to pay different attention to the mistakes made by our model.\n",
    "2. When it comes to actually use the selected band with the camera, the MROIs (Multiple Regions of Interest) are needed to be set. However, each single ROI (Region of Interest) will cause some band before and after the region to be invalid, the more ROIs are set the more waste will be. So the encoding method is changed to handle this problem to restrict the total number of ROI.\n",
    "3. Some prior knowledge may already be observed by human, such as the 吸收峰 on some wavelengths of the material, so the optimization algorithm is modified in order to go beyond the normal version of it."
   ],
   "metadata": {
    "collapsed": false,
    "pycharm": {
     "name": "#%% md\n"
    }
   }
  },
  {
   "cell_type": "markdown",
   "source": [
    "## Objective Function\n",
    "In the objective function of our method, we design it based on 3 rules:\n",
    "- The smaller the number of the bands the better it will be.(less transmission, less computational cost)\n",
    "- The accuracy of the classification result is important."
   ],
   "metadata": {
    "collapsed": false,
    "pycharm": {
     "name": "#%% md\n"
    }
   }
  },
  {
   "cell_type": "markdown",
   "source": [
    "Encoding Format\n",
    "$$[[0, 488], [0, 36]] \\times n$$"
   ],
   "metadata": {
    "collapsed": false,
    "pycharm": {
     "name": "#%% md\n"
    }
   }
  },
  {
   "cell_type": "code",
   "execution_count": 7,
   "outputs": [],
   "source": [
    "test_wolf = np.array([34, 5, 78, 5, 120, 4, 350, 6, 400, 0, 488, 0, 128, 0], dtype=float).reshape((1, -1))"
   ],
   "metadata": {
    "collapsed": false,
    "pycharm": {
     "name": "#%%\n"
    }
   }
  },
  {
   "cell_type": "code",
   "execution_count": 18,
   "outputs": [
    {
     "data": {
      "text/plain": "20.0"
     },
     "execution_count": 18,
     "metadata": {},
     "output_type": "execute_result"
    }
   ],
   "source": [
    "def obj_func1(agent):\n",
    "    \"\"\"\n",
    "    Calculate the total number of the bands selected\n",
    "    :param agent: search agent\n",
    "    :return: band number\n",
    "    \"\"\"\n",
    "    res = np.sum(agent[:,  1:-1:2], axis=1)\n",
    "    if agent.shape[0] > 1:\n",
    "        return res\n",
    "    else:\n",
    "        return res.sum()\n",
    "obj_func1(agent=test_wolf)"
   ],
   "metadata": {
    "collapsed": false,
    "pycharm": {
     "name": "#%%\n"
    }
   }
  },
  {
   "cell_type": "code",
   "execution_count": null,
   "outputs": [],
   "source": [
    "def obj_func2(agent):\n",
    "    \"\"\"\n",
    "\n",
    "    :param agent:\n",
    "    :return:\n",
    "    \"\"\""
   ],
   "metadata": {
    "collapsed": false,
    "pycharm": {
     "name": "#%%\n"
    }
   }
  }
 ],
 "metadata": {
  "kernelspec": {
   "display_name": "Python 3",
   "language": "python",
   "name": "python3"
  },
  "language_info": {
   "codemirror_mode": {
    "name": "ipython",
    "version": 2
   },
   "file_extension": ".py",
   "mimetype": "text/x-python",
   "name": "python",
   "nbconvert_exporter": "python",
   "pygments_lexer": "ipython2",
   "version": "2.7.6"
  }
 },
 "nbformat": 4,
 "nbformat_minor": 0
}