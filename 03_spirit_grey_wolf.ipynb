{
 "cells": [
  {
   "cell_type": "markdown",
   "metadata": {
    "collapsed": true,
    "pycharm": {
     "name": "#%% md\n"
    }
   },
   "source": [
    "# Spirit Grey Wolf Optimization\n",
    "In our case, we can clearly infer from the figure of the spectra that some part of the tobacco spectra wavelength is important for classification, like the 650nm and 670nm, but it is difficult to put it down that these two wavelength are just the optimal choices for our band selection task. we do hope to accelerate our optimizer based on our observation result. So, our modification is aimed at two points:\n",
    "\n",
    "1. the modification should provide direction to guide our optimizer at the beginning\n",
    "2. the modification should not influence the searching result.\n",
    "\n",
    "Based on these two goals we build the spirit grey wolf optimization. In this optimizer, we introduced a spirit wolf who has an influence that attract search agents to it and get fade away along with the iteration going in the grey wolf optimization."
   ]
  },
  {
   "cell_type": "markdown",
   "metadata": {},
   "source": [
    "## Spirit Grey Wolf\n",
    "\n",
    "The spirit grey wolf is designed to have the ability to guide other wolves to some extend. And we hope it can provide instructions only in the areas that we already have some prior knowledge, while not influence other areas.\n",
    "\n",
    "So the Spirit Grey Wolf is defined as fellow:\n",
    "\n",
    "$$X_s = [\\infty, \\infty, n_{e}, \\infty, \\cdots, \\infty]$$\n",
    "\n",
    "Where, $X_s$ is the Spirit Grey Wolf, the $n_{e}$ represents for the possible choice of the optimum result inferred from the prior knowledge, $\\infty$ is used for those positions that we no idea about them. It is noticable that the $n_{e}$ is not the accurate result of the optimum choice but the possible choice that we estimated from our observation and suggested to our search agents.\n",
    "\n",
    "## Fading Away\n",
    "\n",
    "Differ from the oridinary grey wolves, the spirit grey wolf has an influence that fades away as the time pass. In order to mathematically model the fading away behavior the following equitions are proposed:\n",
    "\n",
    "$$s_a = ReLU(e^{\\tau t}-i_f), i_f \\in [0, 1)$$\n",
    "\n",
    "where, the $\\tau$ controls the fading speed of the spirit grey wolf, $t$ indicates the current iteration, $ReLU$ is the Rectified Linear Unit that will output the input directly if it is positive, otherwise, it will output zero, and $i_f$ is an hyperparameter that decide the smallest influence of the spirit wolf at the final iteration that provide guidence to other wolves. \n",
    "The parameter $\\tau$ is calculated as follows:\n",
    "\n",
    "$$\\tau = \\frac{2ln(i_f)}{epochs}$$\n",
    "\n",
    "where $epochs$ is the total iteration number of the optimizer. This parameter $\\tau$ make the influence of the spirit grey wolf dispear at half of the iteration progress since the effect of prior knowledge is not expected to last to the end of the optimization progress to generate possible disturbance for the optimizer."
   ]
  },
  {
   "cell_type": "markdown",
   "metadata": {},
   "source": [
    "## Hunting\n",
    "During the hunting progress, the proposed spirit grey wolf will attract the search agent from everywhere of the searching spaces. Analogous to the oridinary grey wolves, the spirit grey wolf also have the ability to encircle prey during hunt, the difference focus on the encircling behavior which will not be performed on those dimesions that holds $\\infty$ for unknown results.\n",
    "The mathematical model of the social hierarchy of the grey wolves with siprit wolves is defined as follows:\n",
    "- The prey is supposed to be the optimum that we need to find;\n",
    "- $Spirit$: the spirit grey wolf;\n",
    "- $\\alpha$: the fitness solution;\n",
    "- $\\beta$: the second best solution;\n",
    "- $\\delta$: the third best solution.\n",
    "\n",
    "The first step is the case that grey wolves encircle prey. The mathematical model is:\n",
    "\n",
    "$$ \\vec{D} = |\\vec{C}\\cdot\\vec{X_p(t)}-\\vec{X}(t)| $$\n",
    "$$\\vec{X}(t+1) = \\vec{X}_p(t)-\\vec{A}\\cdot\\vec{D}$$\n",
    "\n",
    "Where $t$ indicates the current iteration, $\\vec{A}$ and $\\vec{C}$ are coefficient vectors that help vector $\\vec{D}$ generate circles based on random vectors. $\\vec{X}_p$ is the position vector of the leading wolves and $\\vec{X}$ is the position vector of a grey wolf. The vector $\\vec{A}$ and $\\vec{C}$ are defined as follows:\n",
    "\n",
    "$$ \\vec{A}=2 \\vec{a} \\cdot \\vec{r}_{1}-\\vec{a} $$\n",
    "$$ \\vec{C}=2 \\cdot \\vec{r}_{2} $$\n",
    "\n",
    "where, $\\vec{r_1}, \\vec{r_2} \\in [0, 1]$ are random vectors, componets of $\\vec{a}$ are linearly decreased from 2 to 0 during the iterations.  The oridinary wolves search the prey with the models as follows:\n",
    "$$\\vec{D}_{\\alpha}=\\left|\\vec{C}_{1} \\cdot \\vec{X}_{\\alpha}-\\vec{X}\\right|, \\quad \\vec{D}_{\\beta}=\\left|\\vec{C}_{2} \\cdot \\vec{X}_{\\beta}-\\vec{X}\\right|, \\quad \\vec{D}_{\\delta}=\\left|\\vec{C}_{3} \\cdot \\vec{X}_{\\delta}-\\vec{X}\\right|\n",
    "$$\n",
    "\n",
    "$$\\vec{X}_{1}=\\vec{X}_{\\alpha}-\\vec{A}_{1} \\cdot\\left(\\vec{D}_{\\alpha}\\right), \\quad \\vec{X}_{2}=\\vec{X}_{\\beta}-\\vec{A}_{2} \\cdot\\left(\\vec{D}_{\\beta}\\right), \\quad \\vec{X}_{3}=\\vec{X}_{\\delta}-\\vec{A}_{3} \\cdot\\left(\\vec{D}_{\\delta}\\right)\n",
    "$$\n",
    "\n",
    "The spirit grey wolf shows similar behavior in this progress. The encirling behavior is given by:\n",
    "\n",
    "$$\\vec{A}_s = 2\\vec{s}_a \\cdot \\vec{r} - \\vec{s}_a$$\n",
    "\n",
    "where, $\\vec{r} \\in [0, 1]$ is random vector, each component of $\\vec{s}_a$ is calculated with the formula above as the iteration goes. The spirit grey wolf provide instructions with the model as follows:\n",
    "\n",
    "$$\\vec{d}_{s,j}=\n",
    "\\left\\{\\begin{matrix} \n",
    "  (\\vec{X}_{s,j} - \\vec{X}_j) \\cdot s_a + \\vec{A}_s &,\\vec{X}_{s,j} \\ne \\infty,\\\\  \n",
    "  0 &,\\vec{X}_{s,j} = \\infty. \\\\\n",
    "\\end{matrix}\\right.$$\n",
    "\n",
    "where $\\vec{X}_{s,j}$ indicates the $j$ th component of the spirit grey wolf $\\vec{X}_j$ is the $j$ th component of the search agent.\n",
    "\n",
    "\n",
    "$$\\vec{X}(t+1)=\\frac{\\vec{X}_{1}+\\vec{X}_{2}+\\vec{X}_{3}}{3} + \\vec{d}_s$$\n",
    "\n",
    "Grey wolves search the prey according to the position of the leaders and the instruction of the spirit grey wolf."
   ]
  },
  {
   "cell_type": "markdown",
   "metadata": {},
   "source": [
    "## Example Usage\n",
    "To test the perforamce of the Spirit Grey Wolf Optimizer (SGWO) we designed a problem to optimize:\n",
    "$$ y = x_1^2 + (x_2-6)^2 + (x_3 - 5) ^ 2 + (x_4 - 9) ^ 2 + (x5 - 4.2) ^ 2 + (x6 - 7) ^ 2 $$\n",
    "It is very easy to find that the optimum of this problem is $[0, 6, 5, 9, 4.2, 7]$ and we provide some answer to define the spirit grey wolf as fellow:\n",
    "$$x_s = [\\infty, \\infty, \\infty, 8, 6, 7]$$\n",
    "The $x_s$ here plays the role of our estimation, and in this case we assume that we can give the approximate results only in three dimesions. And we placed $\\infty$ s for those places that we have no idea about them."
   ]
  },
  {
   "cell_type": "code",
   "execution_count": 1,
   "metadata": {},
   "outputs": [],
   "source": [
    "import numpy as np\n",
    "def judge(x):\n",
    "        x1, x2, x3, x4, x5, x6 = x[0], x[1], x[2], x[3], x[4], x[5]\n",
    "        return x1 * x1 + (x2 - 6) ** 2 + (x3 - 5) ** 2 + (x4 - 9) ** 2 + (x5 - 4.2) ** 2 + (x6 - 7) ** 2\n",
    "\n",
    "x_s = np.array([np.inf, np.inf, np.inf, 8, 6, 7])"
   ]
  },
  {
   "cell_type": "code",
   "execution_count": 2,
   "metadata": {},
   "outputs": [],
   "source": [
    "num_search_agent, epoch_num = 15, 30\n",
    "seed = 898\n",
    "upper, lower = np.array([[100]*6]), np.array([[-100]*6])"
   ]
  },
  {
   "cell_type": "code",
   "execution_count": 3,
   "metadata": {},
   "outputs": [],
   "source": [
    "from optimizer.grey_wolf import GWO\n",
    "from optimizer.spirit_grey_wolf import SpiritGWO\n",
    "gwo = GWO(upper, lower, judge, 0, num_wolf=num_search_agent, epochs=epoch_num, minimize=True, initial_seed=seed)\n",
    "sgwo = SpiritGWO(upper, lower, judge, 0, spirit_wolf=x_s, num_wolf=num_search_agent, epochs=epoch_num, minimize=True, initial_seed=seed)"
   ]
  },
  {
   "cell_type": "code",
   "execution_count": 4,
   "metadata": {},
   "outputs": [
    {
     "name": "stdout",
     "output_type": "stream",
     "text": [
      "Generation  1 finish! Best value =  9523.77214206074\n",
      "Generation  2 finish! Best value =  7449.2328233340095\n",
      "Generation  3 finish! Best value =  1459.1647182286117\n",
      "Generation  4 finish! Best value =  1459.1647182286117\n",
      "Generation  5 finish! Best value =  962.8591883082352\n",
      "Generation  6 finish! Best value =  677.6920114600038\n",
      "Generation  7 finish! Best value =  588.0549578627965\n",
      "Generation  8 finish! Best value =  294.2554603161834\n",
      "Generation  9 finish! Best value =  165.8955250085828\n",
      "Generation  10 finish! Best value =  29.209587601537194\n",
      "Generation  11 finish! Best value =  29.209587601537194\n",
      "Generation  12 finish! Best value =  19.929870401063578\n",
      "Generation  13 finish! Best value =  19.929870401063578\n",
      "Generation  14 finish! Best value =  19.929870401063578\n",
      "Generation  15 finish! Best value =  19.929870401063578\n",
      "Generation  16 finish! Best value =  19.929870401063578\n",
      "Generation  17 finish! Best value =  19.929870401063578\n",
      "Generation  18 finish! Best value =  16.95980856723331\n",
      "Generation  19 finish! Best value =  16.95980856723331\n",
      "Generation  20 finish! Best value =  16.95980856723331\n",
      "Generation  21 finish! Best value =  14.965885203627131\n",
      "Generation  22 finish! Best value =  14.834632716805904\n",
      "Generation  23 finish! Best value =  13.84892428298066\n",
      "Generation  24 finish! Best value =  12.087445188274891\n",
      "Generation  25 finish! Best value =  12.087445188274891\n",
      "Generation  26 finish! Best value =  11.415172076532794\n",
      "Generation  27 finish! Best value =  9.61544032766066\n",
      "Generation  28 finish! Best value =  9.327632992155783\n",
      "Generation  29 finish! Best value =  9.07133186815657\n",
      "Generation  30 finish! Best value =  8.627643292589735\n",
      "Optimization Finish !\n"
     ]
    }
   ],
   "source": [
    "gwo.run()"
   ]
  },
  {
   "cell_type": "code",
   "execution_count": 5,
   "metadata": {},
   "outputs": [
    {
     "name": "stdout",
     "output_type": "stream",
     "text": [
      "Generation  1 finish! Best value =  9523.77214206074\n",
      "Generation  2 finish! Best value =  710.9188778756678\n",
      "Generation  3 finish! Best value =  161.78334568641134\n",
      "Generation  4 finish! Best value =  83.1045051038395\n",
      "Generation  5 finish! Best value =  83.1045051038395\n",
      "Generation  6 finish! Best value =  47.631642341535574\n",
      "Generation  7 finish! Best value =  19.29970620725371\n",
      "Generation  8 finish! Best value =  19.29970620725371\n",
      "Generation  9 finish! Best value =  15.52093284135518\n",
      "Generation  10 finish! Best value =  9.873977421555049\n",
      "Generation  11 finish! Best value =  7.976153790047054\n",
      "Generation  12 finish! Best value =  6.342046750470404\n",
      "Generation  13 finish! Best value =  3.173339989504545\n",
      "Generation  14 finish! Best value =  3.173339989504545\n",
      "Generation  15 finish! Best value =  3.173339989504545\n",
      "Generation  16 finish! Best value =  2.6956608987853663\n",
      "Generation  17 finish! Best value =  2.6956608987853663\n",
      "Generation  18 finish! Best value =  2.6956608987853663\n",
      "Generation  19 finish! Best value =  2.1701290834799356\n",
      "Generation  20 finish! Best value =  1.7696501006913834\n",
      "Generation  21 finish! Best value =  1.7316324449693103\n",
      "Generation  22 finish! Best value =  1.4576322102678183\n",
      "Generation  23 finish! Best value =  1.4576322102678183\n",
      "Generation  24 finish! Best value =  1.4269047180533398\n",
      "Generation  25 finish! Best value =  0.6502814061488394\n",
      "Generation  26 finish! Best value =  0.6502814061488394\n",
      "Generation  27 finish! Best value =  0.6376796812343335\n",
      "Generation  28 finish! Best value =  0.6376796812343335\n",
      "Generation  29 finish! Best value =  0.542229235188829\n",
      "Generation  30 finish! Best value =  0.47178144975927855\n",
      "Optimization Finish !\n"
     ]
    }
   ],
   "source": [
    "sgwo.run()"
   ]
  },
  {
   "cell_type": "code",
   "execution_count": 6,
   "metadata": {},
   "outputs": [
    {
     "data": {
      "image/png": "[encoded data removed]",
      "text/plain": [
       "<Figure size 432x288 with 1 Axes>"
      ]
     },
     "metadata": {
      "needs_background": "light"
     },
     "output_type": "display_data"
    }
   ],
   "source": [
    "import matplotlib.pyplot as plt\n",
    "x = np.arange(0, epoch_num)\n",
    "fig, ax = plt.subplots()\n",
    "ax.plot(x, gwo.convergence_curve, label='GWO')\n",
    "ax.plot(x, sgwo.convergence_curve, label='SGWO')\n",
    "ax.set_title(\"Change of Fitness Value\")\n",
    "ax.set_xlabel(\"iteration number\")\n",
    "ax.set_ylabel(\"Log Fitness value\")\n",
    "plt.yscale('log')\n",
    "plt.legend()\n",
    "plt.show()"
   ]
  },
  {
   "cell_type": "markdown",
   "metadata": {},
   "source": [
    "## Conclusion\n",
    "\n",
    "The Spirit Grey Wolf optimizer can improve the fitness decrease speed at the beginining, and may have advantage on the converge result. In the next section, we will use it as our Optimization method."
   ]
  }
 ],
 "metadata": {
  "kernelspec": {
   "display_name": "Python 3",
   "language": "python",
   "name": "python3"
  },
  "language_info": {
   "codemirror_mode": {
    "name": "ipython",
    "version": 3
   },
   "file_extension": ".py",
   "mimetype": "text/x-python",
   "name": "python",
   "nbconvert_exporter": "python",
   "pygments_lexer": "ipython3",
   "version": "3.9.7"
  }
 },
 "nbformat": 4,
 "nbformat_minor": 0
}
